{
 "cells": [
  {
   "cell_type": "markdown",
   "metadata": {},
   "source": [
    "# **Differentially Private Deep Learning in 20 lines of code**\n",
    "\n",
    "This is a step-by-step tutorial on how to train a simple PyTorch classification model on MNIST dataset using a differentially private - stochastic gradient descent optimizer in 20 lines of code using the PyTorch opacus library.  \n",
    "\n",
    "Link to library: https://github.com/pytorch/opacus"
   ]
  },
  {
   "cell_type": "markdown",
   "metadata": {},
   "source": [
    "### **Step 1: Importing PyTorch and Opacus**"
   ]
  },
  {
   "cell_type": "code",
   "execution_count": 55,
   "metadata": {},
   "outputs": [],
   "source": [
    "import torch\n",
    "from torchvision import datasets, transforms\n",
    "import numpy as np\n",
    "from opacus import PrivacyEngine\n",
    "from tqdm import tqdm"
   ]
  },
  {
   "cell_type": "code",
   "execution_count": 56,
   "metadata": {
    "scrolled": true
   },
   "outputs": [],
   "source": [
    "# !pip install -e ."
   ]
  },
  {
   "cell_type": "markdown",
   "metadata": {},
   "source": [
    "## **Step 2: Loading MNIST data**"
   ]
  },
  {
   "cell_type": "code",
   "execution_count": 57,
   "metadata": {},
   "outputs": [],
   "source": [
    "train_loader = torch.utils.data.DataLoader(\n",
    "    datasets.MNIST('../mnist',\n",
    "                   train=True,\n",
    "                   download=True,\n",
    "                   transform=transforms.Compose([transforms.ToTensor(),\n",
    "                                                 transforms.Normalize((0.1307,), (0.3081,)),]),),\n",
    "                   batch_size=64,\n",
    "                   shuffle=True,\n",
    "                   num_workers=1,\n",
    "                   pin_memory=True)\n",
    "\n",
    "test_loader = torch.utils.data.DataLoader(\n",
    "        datasets.MNIST('../mnist', \n",
    "                       train=False, \n",
    "                       transform=transforms.Compose([transforms.ToTensor(), \n",
    "                                                     transforms.Normalize((0.1307,), (0.3081,)),]),), \n",
    "                       batch_size=1024,\n",
    "                       shuffle=True,\n",
    "                       num_workers=1,\n",
    "                       pin_memory=True)"
   ]
  },
  {
   "cell_type": "markdown",
   "metadata": {},
   "source": [
    "## **Step 3: Creating a Neural Network Classification Model and Optimizer**"
   ]
  },
  {
   "cell_type": "code",
   "execution_count": 58,
   "metadata": {},
   "outputs": [],
   "source": [
    "model = torch.nn.Sequential(\n",
    "        torch.nn.Conv2d(1, 16, 8, 2, padding=3),\n",
    "        torch.nn.ReLU(),\n",
    "        torch.nn.MaxPool2d(2, 1),\n",
    "        torch.nn.Conv2d(16, 32, 4, 2),\n",
    "        torch.nn.ReLU(),\n",
    "        torch.nn.MaxPool2d(2, 1),\n",
    "        torch.nn.Flatten(),\n",
    "        torch.nn.Linear(32 * 4 * 4, 32),\n",
    "        torch.nn.ReLU(),\n",
    "        torch.nn.Linear(32, 10))\n",
    "\n",
    "optimizer = torch.optim.SGD(model.parameters(), lr=0.05)"
   ]
  },
  {
   "cell_type": "markdown",
   "metadata": {},
   "source": [
    "## **Step 4: Creating and Attaching a Differential Privacy Engine to the Optimizer**"
   ]
  },
  {
   "cell_type": "code",
   "execution_count": 59,
   "metadata": {},
   "outputs": [],
   "source": [
    "privacy_engine = PrivacyEngine(\n",
    "    model,\n",
    "    batch_size=64,\n",
    "    sample_size=60000,\n",
    "    alphas=[1.01, 10, 100],\n",
    "    noise_multiplier=1.3,\n",
    "    max_grad_norm=1.0,\n",
    ")\n",
    "\n",
    "privacy_engine.attach(optimizer)"
   ]
  },
  {
   "cell_type": "markdown",
   "metadata": {},
   "source": [
    "## **Step 5: Creating a training function**"
   ]
  },
  {
   "cell_type": "code",
   "execution_count": 60,
   "metadata": {},
   "outputs": [],
   "source": [
    "def train(model, train_loader, optimizer, epoch, device, delta):\n",
    "    model.train()\n",
    "    criterion = nn.CrossEntropyLoss()\n",
    "    losses = []\n",
    "    for _batch_idx, (data, target) in enumerate(tqdm(train_loader)):\n",
    "        data, target = data.to(device), target.to(device)\n",
    "        optimizer.zero_grad()\n",
    "        output = model(data)\n",
    "        loss = criterion(output, target)\n",
    "        loss.backward()\n",
    "        optimizer.step()\n",
    "        losses.append(loss.item())\n",
    "\n",
    "    \n",
    "    epsilon, best_alpha = optimizer.privacy_engine.get_privacy_spent(delta)\n",
    "    print(\n",
    "        f\"Train Epoch: {epoch} \\t\"\n",
    "        f\"Loss: {np.mean(losses):.6f} \"\n",
    "        f\"(ε = {epsilon:.2f}, δ = {delta}) for α = {best_alpha}\"\n",
    "    )"
   ]
  },
  {
   "cell_type": "markdown",
   "metadata": {},
   "source": [
    "## **Step 6: Training the private model over multiple epochs**"
   ]
  },
  {
   "cell_type": "code",
   "execution_count": 53,
   "metadata": {},
   "outputs": [
    {
     "name": "stderr",
     "output_type": "stream",
     "text": [
      "100%|██████████| 938/938 [00:46<00:00, 20.23it/s]\n",
      "  0%|          | 0/938 [00:00<?, ?it/s]"
     ]
    },
    {
     "name": "stdout",
     "output_type": "stream",
     "text": [
      "Train Epoch: 1 \tLoss: 1.160936 (ε = 1.28, δ = 1e-05) for α = 10.0\n"
     ]
    },
    {
     "name": "stderr",
     "output_type": "stream",
     "text": [
      "100%|██████████| 938/938 [00:45<00:00, 20.64it/s]\n",
      "  0%|          | 0/938 [00:00<?, ?it/s]"
     ]
    },
    {
     "name": "stdout",
     "output_type": "stream",
     "text": [
      "Train Epoch: 2 \tLoss: 0.509136 (ε = 1.29, δ = 1e-05) for α = 10.0\n"
     ]
    },
    {
     "name": "stderr",
     "output_type": "stream",
     "text": [
      "100%|██████████| 938/938 [00:54<00:00, 17.13it/s]\n",
      "  0%|          | 0/938 [00:00<?, ?it/s]"
     ]
    },
    {
     "name": "stdout",
     "output_type": "stream",
     "text": [
      "Train Epoch: 3 \tLoss: 0.458824 (ε = 1.29, δ = 1e-05) for α = 10.0\n"
     ]
    },
    {
     "name": "stderr",
     "output_type": "stream",
     "text": [
      "100%|██████████| 938/938 [00:53<00:00, 17.64it/s]\n",
      "  0%|          | 0/938 [00:00<?, ?it/s]"
     ]
    },
    {
     "name": "stdout",
     "output_type": "stream",
     "text": [
      "Train Epoch: 4 \tLoss: 0.429470 (ε = 1.30, δ = 1e-05) for α = 10.0\n"
     ]
    },
    {
     "name": "stderr",
     "output_type": "stream",
     "text": [
      "100%|██████████| 938/938 [00:57<00:00, 16.39it/s]\n",
      "  0%|          | 0/938 [00:00<?, ?it/s]"
     ]
    },
    {
     "name": "stdout",
     "output_type": "stream",
     "text": [
      "Train Epoch: 5 \tLoss: 0.424626 (ε = 1.30, δ = 1e-05) for α = 10.0\n"
     ]
    },
    {
     "name": "stderr",
     "output_type": "stream",
     "text": [
      "100%|██████████| 938/938 [00:51<00:00, 18.17it/s]\n",
      "  0%|          | 0/938 [00:00<?, ?it/s]"
     ]
    },
    {
     "name": "stdout",
     "output_type": "stream",
     "text": [
      "Train Epoch: 6 \tLoss: 0.440312 (ε = 1.31, δ = 1e-05) for α = 10.0\n"
     ]
    },
    {
     "name": "stderr",
     "output_type": "stream",
     "text": [
      "100%|██████████| 938/938 [00:47<00:00, 19.69it/s]\n",
      "  0%|          | 0/938 [00:00<?, ?it/s]"
     ]
    },
    {
     "name": "stdout",
     "output_type": "stream",
     "text": [
      "Train Epoch: 7 \tLoss: 0.427817 (ε = 1.31, δ = 1e-05) for α = 10.0\n"
     ]
    },
    {
     "name": "stderr",
     "output_type": "stream",
     "text": [
      "100%|██████████| 938/938 [00:47<00:00, 19.67it/s]\n",
      "  0%|          | 0/938 [00:00<?, ?it/s]"
     ]
    },
    {
     "name": "stdout",
     "output_type": "stream",
     "text": [
      "Train Epoch: 8 \tLoss: 0.463586 (ε = 1.31, δ = 1e-05) for α = 10.0\n"
     ]
    },
    {
     "name": "stderr",
     "output_type": "stream",
     "text": [
      "100%|██████████| 938/938 [00:45<00:00, 20.41it/s]\n",
      "  0%|          | 0/938 [00:00<?, ?it/s]"
     ]
    },
    {
     "name": "stdout",
     "output_type": "stream",
     "text": [
      "Train Epoch: 9 \tLoss: 0.499022 (ε = 1.32, δ = 1e-05) for α = 10.0\n"
     ]
    },
    {
     "name": "stderr",
     "output_type": "stream",
     "text": [
      "100%|██████████| 938/938 [00:45<00:00, 20.44it/s]"
     ]
    },
    {
     "name": "stdout",
     "output_type": "stream",
     "text": [
      "Train Epoch: 10 \tLoss: 0.487770 (ε = 1.32, δ = 1e-05) for α = 10.0\n"
     ]
    },
    {
     "name": "stderr",
     "output_type": "stream",
     "text": [
      "\n"
     ]
    }
   ],
   "source": [
    "for epoch in range(1, 11):\n",
    "    train(model, train_loader, optimizer, epoch, device=\"cpu\", delta=1e-5)"
   ]
  },
  {
   "cell_type": "markdown",
   "metadata": {},
   "source": [
    "## **Putting the code all together**"
   ]
  },
  {
   "cell_type": "code",
   "execution_count": null,
   "metadata": {},
   "outputs": [],
   "source": [
    "# Step 1: Importing PyTorch and Opacus\n",
    "import torch\n",
    "from torchvision import datasets, transforms\n",
    "import numpy as np\n",
    "from opacus import PrivacyEngine\n",
    "from tqdm import tqdm\n",
    "\n",
    "# Step 2: Loading MNIST Data\n",
    "train_loader = torch.utils.data.DataLoader(datasets.MNIST('../mnist', train=True, download=True,\n",
    "               transform=transforms.Compose([transforms.ToTensor(), transforms.Normalize((0.1307,), \n",
    "               (0.3081,)),]),), batch_size=64, shuffle=True, num_workers=1, pin_memory=True)\n",
    "\n",
    "test_loader = torch.utils.data.DataLoader(datasets.MNIST('../mnist', train=False, \n",
    "              transform=transforms.Compose([transforms.ToTensor(), transforms.Normalize((0.1307,), \n",
    "              (0.3081,)),]),), batch_size=1024, shuffle=True, num_workers=1, pin_memory=True)\n",
    "\n",
    "# Step 3: Creating a PyTorch Neural Network Classification Model and Optimizer\n",
    "model = torch.nn.Sequential(torch.nn.Conv2d(1, 16, 8, 2, padding=3), torch.nn.ReLU(), torch.nn.MaxPool2d(2, 1),\n",
    "        torch.nn.Conv2d(16, 32, 4, 2),  torch.nn.ReLU(), torch.nn.MaxPool2d(2, 1), torch.nn.Flatten(), \n",
    "        torch.nn.Linear(32 * 4 * 4, 32), torch.nn.ReLU(), torch.nn.Linear(32, 10))\n",
    "\n",
    "optimizer = torch.optim.SGD(model.parameters(), lr=0.05)\n",
    "\n",
    "# Step 4: Attaching a Differential Privacy Engine to the Optimizer\n",
    "privacy_engine = PrivacyEngine(model, batch_size=64, sample_size=60000, alphas=[1.01, 10, 100], \n",
    "                               noise_multiplier=1.3, max_grad_norm=1.0,)\n",
    "\n",
    "privacy_engine.attach(optimizer)\n",
    "\n",
    "# Step 5: Training the private model over multiple epochs\n",
    "def train(model, train_loader, optimizer, epoch, device, delta):\n",
    "    \n",
    "    model.train()\n",
    "    criterion = nn.CrossEntropyLoss()\n",
    "    losses = []\n",
    "    \n",
    "    for _batch_idx, (data, target) in enumerate(tqdm(train_loader)):\n",
    "        data, target = data.to(device), target.to(device)\n",
    "        optimizer.zero_grad()\n",
    "        output = model(data)\n",
    "        loss = criterion(output, target)\n",
    "        loss.backward()\n",
    "        optimizer.step()\n",
    "        losses.append(loss.item())\n",
    "        \n",
    "    epsilon, best_alpha = optimizer.privacy_engine.get_privacy_spent(delta)\n",
    "    \n",
    "    print(\n",
    "        f\"Train Epoch: {epoch} \\t\"\n",
    "        f\"Loss: {np.mean(losses):.6f} \"\n",
    "        f\"(ε = {epsilon:.2f}, δ = {delta}) for α = {best_alpha}\"\n",
    "    )\n",
    "    \n",
    "for epoch in range(1, 11):\n",
    "    train(model, train_loader, optimizer, epoch, device=\"cpu\", delta=1e-5)"
   ]
  }
 ],
 "metadata": {
  "kernelspec": {
   "display_name": "Python 3",
   "language": "python",
   "name": "python3"
  },
  "language_info": {
   "codemirror_mode": {
    "name": "ipython",
    "version": 3
   },
   "file_extension": ".py",
   "mimetype": "text/x-python",
   "name": "python",
   "nbconvert_exporter": "python",
   "pygments_lexer": "ipython3",
   "version": "3.7.7"
  }
 },
 "nbformat": 4,
 "nbformat_minor": 4
}
