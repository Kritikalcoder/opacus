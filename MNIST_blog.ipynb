{
 "cells": [
  {
   "cell_type": "markdown",
   "metadata": {},
   "source": [
    "# **How to train a Deep Learning model with Differential Privacy using PyTorch Opacus**\n",
    "\n",
    "\n",
    "This is a step-by-step tutorial on how to train a simple PyTorch classification model on MNIST dataset using a differentially private - stochastic gradient descent optimizer.\n",
    "\n",
    "Link to library: https://github.com/pytorch/opacus"
   ]
  },
  {
   "cell_type": "markdown",
   "metadata": {},
   "source": [
    "### **Step 1: Importing PyTorch and Opacus**"
   ]
  },
  {
   "cell_type": "code",
   "execution_count": 39,
   "metadata": {},
   "outputs": [],
   "source": [
    "import torch\n",
    "from torchvision import datasets, transforms\n",
    "import numpy as np\n",
    "from opacus import PrivacyEngine\n",
    "import torch.nn as nn\n",
    "import torch.optim as optim\n",
    "from tqdm import tqdm"
   ]
  },
  {
   "cell_type": "code",
   "execution_count": 16,
   "metadata": {
    "scrolled": true
   },
   "outputs": [
    {
     "name": "stdout",
     "output_type": "stream",
     "text": [
      "Obtaining file:///home/kritika/opacus\n",
      "Requirement already satisfied: numpy>=1.15 in /home/kritika/anaconda3/envs/syftenv/lib/python3.7/site-packages/numpy-1.18.3-py3.7-linux-x86_64.egg (from opacus==0.1) (1.18.3)\n",
      "Requirement already satisfied: torch>=1.3 in /home/kritika/anaconda3/envs/syftenv/lib/python3.7/site-packages/torch-1.4.0-py3.7-linux-x86_64.egg (from opacus==0.1) (1.4.0)\n",
      "Requirement already satisfied: torchvision>=0.4 in /home/kritika/anaconda3/envs/syftenv/lib/python3.7/site-packages/torchvision-0.5.0-py3.7-linux-x86_64.egg (from opacus==0.1) (0.5.0)\n",
      "Requirement already satisfied: tqdm>=4.40 in /home/kritika/anaconda3/envs/syftenv/lib/python3.7/site-packages (from opacus==0.1) (4.46.0)\n",
      "Requirement already satisfied: scipy>=1.2 in /home/kritika/anaconda3/envs/syftenv/lib/python3.7/site-packages/scipy-1.4.1-py3.7-linux-x86_64.egg (from opacus==0.1) (1.4.1)\n",
      "Requirement already satisfied: pytest in /home/kritika/anaconda3/envs/syftenv/lib/python3.7/site-packages (from opacus==0.1) (5.4.2)\n",
      "Requirement already satisfied: pillow>=4.1.1 in /home/kritika/anaconda3/envs/syftenv/lib/python3.7/site-packages/Pillow-6.2.2-py3.7-linux-x86_64.egg (from torchvision>=0.4->opacus==0.1) (6.2.2)\n",
      "Requirement already satisfied: six in /home/kritika/anaconda3/envs/syftenv/lib/python3.7/site-packages (from torchvision>=0.4->opacus==0.1) (1.14.0)\n",
      "Requirement already satisfied: more-itertools>=4.0.0 in /home/kritika/anaconda3/envs/syftenv/lib/python3.7/site-packages (from pytest->opacus==0.1) (8.2.0)\n",
      "Requirement already satisfied: py>=1.5.0 in /home/kritika/anaconda3/envs/syftenv/lib/python3.7/site-packages (from pytest->opacus==0.1) (1.8.1)\n",
      "Requirement already satisfied: wcwidth in /home/kritika/anaconda3/envs/syftenv/lib/python3.7/site-packages (from pytest->opacus==0.1) (0.1.9)\n",
      "Requirement already satisfied: packaging in /home/kritika/anaconda3/envs/syftenv/lib/python3.7/site-packages (from pytest->opacus==0.1) (20.3)\n",
      "Requirement already satisfied: attrs>=17.4.0 in /home/kritika/anaconda3/envs/syftenv/lib/python3.7/site-packages (from pytest->opacus==0.1) (19.3.0)\n",
      "Requirement already satisfied: importlib-metadata>=0.12; python_version < \"3.8\" in /home/kritika/anaconda3/envs/syftenv/lib/python3.7/site-packages (from pytest->opacus==0.1) (1.5.0)\n",
      "Requirement already satisfied: pluggy<1.0,>=0.12 in /home/kritika/anaconda3/envs/syftenv/lib/python3.7/site-packages (from pytest->opacus==0.1) (0.13.1)\n",
      "Requirement already satisfied: pyparsing>=2.0.2 in /home/kritika/anaconda3/envs/syftenv/lib/python3.7/site-packages (from packaging->pytest->opacus==0.1) (2.4.7)\n",
      "Requirement already satisfied: zipp>=0.5 in /home/kritika/anaconda3/envs/syftenv/lib/python3.7/site-packages (from importlib-metadata>=0.12; python_version < \"3.8\"->pytest->opacus==0.1) (3.1.0)\n",
      "Installing collected packages: opacus\n",
      "  Attempting uninstall: opacus\n",
      "    Found existing installation: opacus 0.1\n",
      "    Uninstalling opacus-0.1:\n",
      "      Successfully uninstalled opacus-0.1\n",
      "  Running setup.py develop for opacus\n",
      "Successfully installed opacus\n"
     ]
    }
   ],
   "source": [
    "!pip install -e ."
   ]
  },
  {
   "cell_type": "markdown",
   "metadata": {},
   "source": [
    "## **Step 2: Loading MNIST data**"
   ]
  },
  {
   "cell_type": "code",
   "execution_count": 19,
   "metadata": {},
   "outputs": [
    {
     "name": "stdout",
     "output_type": "stream",
     "text": [
      "60000\n"
     ]
    }
   ],
   "source": [
    "train_loader = torch.utils.data.DataLoader(\n",
    "    datasets.MNIST('../mnist',\n",
    "                   train=True,\n",
    "                   download=True,\n",
    "                   transform=transforms.Compose([transforms.ToTensor(),\n",
    "                                                 transforms.Normalize((0.1307,), (0.3081,)),]),),\n",
    "                   batch_size=64,\n",
    "                   shuffle=True,\n",
    "                   num_workers=1,\n",
    "                   pin_memory=True)\n",
    "\n",
    "test_loader = torch.utils.data.DataLoader(\n",
    "        datasets.MNIST('../mnist', \n",
    "                       train=False, \n",
    "                       transform=transforms.Compose([transforms.ToTensor(), \n",
    "                                                     transforms.Normalize((0.1307,), (0.3081,)),]),), \n",
    "                       batch_size=1024,\n",
    "                       shuffle=True,\n",
    "                       num_workers=1,\n",
    "                       pin_memory=True)\n",
    "\n",
    "print(len(train_loader.dataset))"
   ]
  },
  {
   "cell_type": "markdown",
   "metadata": {},
   "source": [
    "## **Step 3: Creating a Neural Network Classification Model and Optimizer**"
   ]
  },
  {
   "cell_type": "code",
   "execution_count": 34,
   "metadata": {},
   "outputs": [],
   "source": [
    "model = nn.Sequential(\n",
    "        nn.Conv2d(1, 16, 8, 2, padding=3),\n",
    "        nn.ReLU(),\n",
    "        nn.MaxPool2d(2, 1),\n",
    "        nn.Conv2d(16, 32, 4, 2),\n",
    "        nn.ReLU(),\n",
    "        nn.MaxPool2d(2, 1),\n",
    "        nn.Flatten(),\n",
    "        nn.Linear(32 * 4 * 4, 32),\n",
    "        nn.ReLU(),\n",
    "        nn.Linear(32, 10))\n",
    "\n",
    "optimizer = optim.SGD(model.parameters(), lr=0.05)"
   ]
  },
  {
   "cell_type": "markdown",
   "metadata": {},
   "source": [
    "## **Step 4: Creating and Attaching a Differential Privacy Engine to the Optimizer**"
   ]
  },
  {
   "cell_type": "code",
   "execution_count": 35,
   "metadata": {},
   "outputs": [],
   "source": [
    "privacy_engine = PrivacyEngine(\n",
    "    model,\n",
    "    batch_size=64,\n",
    "    sample_size=60000,\n",
    "    alphas=[1.01, 10, 100],\n",
    "    noise_multiplier=1.3,\n",
    "    max_grad_norm=1.0,\n",
    ")\n",
    "\n",
    "privacy_engine.attach(optimizer)"
   ]
  },
  {
   "cell_type": "markdown",
   "metadata": {},
   "source": [
    "## **Step 5: Creating a training function**"
   ]
  },
  {
   "cell_type": "code",
   "execution_count": 36,
   "metadata": {},
   "outputs": [],
   "source": [
    "def train(model, train_loader, optimizer, epoch, device, delta):\n",
    "    model.train()\n",
    "    criterion = nn.CrossEntropyLoss()\n",
    "    losses = []\n",
    "    for _batch_idx, (data, target) in enumerate(tqdm(train_loader)):\n",
    "        data, target = data.to(device), target.to(device)\n",
    "        optimizer.zero_grad()\n",
    "        output = model(data)\n",
    "        loss = criterion(output, target)\n",
    "        loss.backward()\n",
    "        optimizer.step()\n",
    "        losses.append(loss.item())\n",
    "\n",
    "    \n",
    "    epsilon, best_alpha = optimizer.privacy_engine.get_privacy_spent(delta)\n",
    "    print(\n",
    "        f\"Train Epoch: {epoch} \\t\"\n",
    "        f\"Loss: {np.mean(losses):.6f} \"\n",
    "        f\"(ε = {epsilon:.2f}, δ = {delta}) for α = {best_alpha}\"\n",
    "    )"
   ]
  },
  {
   "cell_type": "markdown",
   "metadata": {},
   "source": [
    "## **Step 7: Training the private model over multiple epochs**"
   ]
  },
  {
   "cell_type": "code",
   "execution_count": 37,
   "metadata": {},
   "outputs": [
    {
     "name": "stderr",
     "output_type": "stream",
     "text": [
      "100%|██████████| 938/938 [00:33<00:00, 28.16it/s]\n",
      "  0%|          | 0/938 [00:00<?, ?it/s]"
     ]
    },
    {
     "name": "stdout",
     "output_type": "stream",
     "text": [
      "Train Epoch: 1 \tLoss: 1.290623 (ε = 1.28, δ = 1e-05) for α = 10.0\n"
     ]
    },
    {
     "name": "stderr",
     "output_type": "stream",
     "text": [
      "100%|██████████| 938/938 [00:46<00:00, 20.27it/s]\n",
      "  0%|          | 0/938 [00:00<?, ?it/s]"
     ]
    },
    {
     "name": "stdout",
     "output_type": "stream",
     "text": [
      "Train Epoch: 2 \tLoss: 0.542662 (ε = 1.29, δ = 1e-05) for α = 10.0\n"
     ]
    },
    {
     "name": "stderr",
     "output_type": "stream",
     "text": [
      "100%|██████████| 938/938 [00:42<00:00, 22.25it/s]\n",
      "  0%|          | 0/938 [00:00<?, ?it/s]"
     ]
    },
    {
     "name": "stdout",
     "output_type": "stream",
     "text": [
      "Train Epoch: 3 \tLoss: 0.489965 (ε = 1.29, δ = 1e-05) for α = 10.0\n"
     ]
    },
    {
     "name": "stderr",
     "output_type": "stream",
     "text": [
      "100%|██████████| 938/938 [00:40<00:00, 23.32it/s]\n",
      "  0%|          | 0/938 [00:00<?, ?it/s]"
     ]
    },
    {
     "name": "stdout",
     "output_type": "stream",
     "text": [
      "Train Epoch: 4 \tLoss: 0.467170 (ε = 1.30, δ = 1e-05) for α = 10.0\n"
     ]
    },
    {
     "name": "stderr",
     "output_type": "stream",
     "text": [
      "100%|██████████| 938/938 [00:40<00:00, 23.44it/s]\n",
      "  0%|          | 0/938 [00:00<?, ?it/s]"
     ]
    },
    {
     "name": "stdout",
     "output_type": "stream",
     "text": [
      "Train Epoch: 5 \tLoss: 0.446736 (ε = 1.30, δ = 1e-05) for α = 10.0\n"
     ]
    },
    {
     "name": "stderr",
     "output_type": "stream",
     "text": [
      "100%|██████████| 938/938 [00:40<00:00, 23.36it/s]\n",
      "  0%|          | 0/938 [00:00<?, ?it/s]"
     ]
    },
    {
     "name": "stdout",
     "output_type": "stream",
     "text": [
      "Train Epoch: 6 \tLoss: 0.464741 (ε = 1.31, δ = 1e-05) for α = 10.0\n"
     ]
    },
    {
     "name": "stderr",
     "output_type": "stream",
     "text": [
      "100%|██████████| 938/938 [00:40<00:00, 23.30it/s]\n",
      "  0%|          | 0/938 [00:00<?, ?it/s]"
     ]
    },
    {
     "name": "stdout",
     "output_type": "stream",
     "text": [
      "Train Epoch: 7 \tLoss: 0.467884 (ε = 1.31, δ = 1e-05) for α = 10.0\n"
     ]
    },
    {
     "name": "stderr",
     "output_type": "stream",
     "text": [
      "100%|██████████| 938/938 [00:40<00:00, 23.36it/s]\n",
      "  0%|          | 0/938 [00:00<?, ?it/s]"
     ]
    },
    {
     "name": "stdout",
     "output_type": "stream",
     "text": [
      "Train Epoch: 8 \tLoss: 0.480682 (ε = 1.31, δ = 1e-05) for α = 10.0\n"
     ]
    },
    {
     "name": "stderr",
     "output_type": "stream",
     "text": [
      "100%|██████████| 938/938 [00:40<00:00, 23.34it/s]\n",
      "  0%|          | 0/938 [00:00<?, ?it/s]"
     ]
    },
    {
     "name": "stdout",
     "output_type": "stream",
     "text": [
      "Train Epoch: 9 \tLoss: 0.479481 (ε = 1.32, δ = 1e-05) for α = 10.0\n"
     ]
    },
    {
     "name": "stderr",
     "output_type": "stream",
     "text": [
      "100%|██████████| 938/938 [00:40<00:00, 23.22it/s]"
     ]
    },
    {
     "name": "stdout",
     "output_type": "stream",
     "text": [
      "Train Epoch: 10 \tLoss: 0.489091 (ε = 1.32, δ = 1e-05) for α = 10.0\n"
     ]
    },
    {
     "name": "stderr",
     "output_type": "stream",
     "text": [
      "\n"
     ]
    }
   ],
   "source": [
    "for epoch in range(1, 11):\n",
    "    train(model, train_loader, optimizer, epoch, device=\"cpu\", delta=1e-5)"
   ]
  },
  {
   "cell_type": "code",
   "execution_count": null,
   "metadata": {},
   "outputs": [],
   "source": []
  },
  {
   "cell_type": "markdown",
   "metadata": {},
   "source": [
    "#### **Ignore this section**\n",
    "\n",
    "A differentially private neural network in __ lines of code  \n",
    "Summary: "
   ]
  },
  {
   "cell_type": "code",
   "execution_count": null,
   "metadata": {},
   "outputs": [],
   "source": []
  }
 ],
 "metadata": {
  "kernelspec": {
   "display_name": "Python 3",
   "language": "python",
   "name": "python3"
  },
  "language_info": {
   "codemirror_mode": {
    "name": "ipython",
    "version": 3
   },
   "file_extension": ".py",
   "mimetype": "text/x-python",
   "name": "python",
   "nbconvert_exporter": "python",
   "pygments_lexer": "ipython3",
   "version": "3.7.7"
  }
 },
 "nbformat": 4,
 "nbformat_minor": 4
}
